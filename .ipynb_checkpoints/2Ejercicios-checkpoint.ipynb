{
 "cells": [
  {
   "cell_type": "code",
   "execution_count": 1,
   "id": "1c99459b-9b7a-4f93-8228-e947f5bacd32",
   "metadata": {},
   "outputs": [],
   "source": [
    "import numpy as np"
   ]
  },
  {
   "cell_type": "code",
   "execution_count": 63,
   "id": "37b6cdf1-c889-4665-8197-2f8cefad7333",
   "metadata": {},
   "outputs": [
    {
     "name": "stdout",
     "output_type": "stream",
     "text": [
      "True\n"
     ]
    }
   ],
   "source": [
    "#Ejercicio 1\n",
    "#Dado el arreglo a = np.array([1, 2, 3, 4]), determina si ninguno de los elementos es cero.\n",
    "a = np.array([1, 2, 3, 4])\n",
    "\n",
    "resultado = np.all(a != 0)\n",
    "print(resultado)"
   ]
  },
  {
   "cell_type": "code",
   "execution_count": 64,
   "id": "127af8bf-6dda-4eac-990a-73b21aed1ef6",
   "metadata": {},
   "outputs": [
    {
     "name": "stdout",
     "output_type": "stream",
     "text": [
      "True\n"
     ]
    }
   ],
   "source": [
    "#Ejercicio 2 \n",
    "#Dado el arreglo a = np.array([0, 0, 2, 0]), determina si contiene algún elemento que no sea cero.\n",
    "a = np.array([0, 0, 2, 0])\n",
    "\n",
    "resultado = np.any(a != 0)\n",
    "print(resultado)"
   ]
  },
  {
   "cell_type": "code",
   "execution_count": 65,
   "id": "c7590f53-249e-42f1-af89-f7f0d0af4938",
   "metadata": {},
   "outputs": [
    {
     "name": "stdout",
     "output_type": "stream",
     "text": [
      "True\n"
     ]
    }
   ],
   "source": [
    "#Ejercicio 3\n",
    "#Analiza el arreglo a = np.array([1, 2, np.nan, np.inf]) y determina si contiene valores que sean infinitos o valores no numéricos (NaN).\n",
    "a = np.array([1, 2, np.nan, np.inf])\n",
    "resultado = np.any(np.isnan(a) | np.isinf(a))\n",
    "print(resultado)"
   ]
  },
  {
   "cell_type": "code",
   "execution_count": 66,
   "id": "23898da0-25d6-4170-bcbe-01255c6cc189",
   "metadata": {},
   "outputs": [
    {
     "name": "stdout",
     "output_type": "stream",
     "text": [
      "True\n"
     ]
    }
   ],
   "source": [
    "#Ejercicio 4\n",
    "#Dado el arreglo a = np.array([1, 2, np.inf]), determina si contiene valores infinitos.\n",
    "a = np.array([1, 2, np.inf])\n",
    "resultado = np.any(np.isinf(a))\n",
    "print(resultado)"
   ]
  },
  {
   "cell_type": "code",
   "execution_count": 67,
   "id": "5c6aea82-4bba-4ded-8183-f1d69233c49e",
   "metadata": {},
   "outputs": [
    {
     "name": "stdout",
     "output_type": "stream",
     "text": [
      "True\n"
     ]
    }
   ],
   "source": [
    "#Ejercicio 5\n",
    "#Dado el arreglo a = np.array([1, np.nan, 3]), determina si contiene valores NaN.\n",
    "a = np.array([1, np.nan, 3])\n",
    "resultado = np.any(np.isnan(a))\n",
    "print(resultado)"
   ]
  },
  {
   "cell_type": "code",
   "execution_count": 68,
   "id": "f571d941-8345-455f-b834-1de00095f68d",
   "metadata": {},
   "outputs": [
    {
     "name": "stdout",
     "output_type": "stream",
     "text": [
      "a > b: [False False  True]\n",
      "a >= b: [False  True  True]\n",
      "a < b: [ True False False]\n",
      "a <= b: [ True False False]\n"
     ]
    }
   ],
   "source": [
    "#Ejercicio 6\n",
    "#Dados los arreglos a = np.array([1, 3, 5]) y b = np.array([2, 3, 4]), realiza una comparación elemento a elemento contemplando mayor, mayor o igual, menor y menor o igual.\n",
    "a = np.array([1, 3, 5])\n",
    "b = np.array([2, 3, 4])\n",
    "mayor = a > b\n",
    "mayorigual = a >= b\n",
    "menor = a < b\n",
    "menorigual = a <= b\n",
    "print(\"a > b:\", mayor)\n",
    "print(\"a >= b:\", mayorigual)\n",
    "print(\"a < b:\", menor)\n",
    "print(\"a <= b:\", menor)"
   ]
  },
  {
   "cell_type": "code",
   "execution_count": 69,
   "id": "88a9b925-a33c-454a-bb95-09e5710b3bc6",
   "metadata": {},
   "outputs": [
    {
     "name": "stdout",
     "output_type": "stream",
     "text": [
      "Bytes utilizados:  32\n"
     ]
    }
   ],
   "source": [
    "#Ejercicio 7\n",
    "#Crea un arreglo que contenga los valores 1, 7, 13 y 105, y determina la cantidad de memoria que ocupa el arreglo.\n",
    "a = np.array([1, 7, 13, 105])\n",
    "memoria = a.nbytes\n",
    "print(\"Bytes utilizados: \", memoria)"
   ]
  },
  {
   "cell_type": "code",
   "execution_count": 70,
   "id": "67d42d82-c75e-411b-854c-3221a8cf9bd2",
   "metadata": {},
   "outputs": [
    {
     "name": "stdout",
     "output_type": "stream",
     "text": [
      "[0. 0. 0. 0. 0. 0. 0. 0. 0. 0.]\n",
      "[1. 1. 1. 1. 1. 1. 1. 1. 1. 1.]\n",
      "[5 5 5 5 5 5 5 5 5 5]\n"
     ]
    }
   ],
   "source": [
    "#Ejercicio 8\n",
    "#Crea un arreglo de 10 ceros; uno de 10 unos; y uno de 10 cincos.\n",
    "\n",
    "#Manual\n",
    "a = np.array([0, 0, 0, 0, 0, 0, 0, 0, 0, 0])\n",
    "b = np.array([1, 1, 1, 1, 1, 1, 1, 1, 1, 1])\n",
    "c = np.array([5, 5, 5, 5, 5, 5, 5, 5, 5, 5])\n",
    "\n",
    "#Automático\n",
    "a1 = np.zeros(10)\n",
    "b1 = np.ones(10)\n",
    "c1 = np.full(10, 5)\n",
    "print(a1)\n",
    "print(b1)\n",
    "print(c1)"
   ]
  },
  {
   "cell_type": "code",
   "execution_count": 71,
   "id": "318e0fc5-f185-4d31-9daa-edb7d8054f00",
   "metadata": {},
   "outputs": [
    {
     "name": "stdout",
     "output_type": "stream",
     "text": [
      "[30 31 32 33 34 35 36 37 38 39 40 41 42 43 44 45 46 47 48 49 50 51 52 53\n",
      " 54 55 56 57 58 59 60 61 62 63 64 65 66 67 68 69]\n"
     ]
    }
   ],
   "source": [
    "#Ejercicio 9\n",
    "#Crea un arreglo que contenga todos los números enteros entre 30 y 70.\n",
    "a = np.arange(30, 70)\n",
    "print(a)"
   ]
  },
  {
   "cell_type": "code",
   "execution_count": 72,
   "id": "54b179a9-0f9b-4562-8f1b-a1fec555524c",
   "metadata": {},
   "outputs": [
    {
     "name": "stdout",
     "output_type": "stream",
     "text": [
      "[30 32 34 36 38 40 42 44 46 48 50 52 54 56 58 60 62 64 66 68]\n"
     ]
    }
   ],
   "source": [
    " #Ejercicio 10\n",
    "#Crea un arreglo que contenga los números pares entre 30 y 70.\n",
    "a = np.arange(30, 70, 2)\n",
    "print(a)"
   ]
  },
  {
   "cell_type": "code",
   "execution_count": 73,
   "id": "906bfb2d-3314-4c2e-90f0-2a8e66a46a18",
   "metadata": {},
   "outputs": [
    {
     "name": "stdout",
     "output_type": "stream",
     "text": [
      "[[1. 0. 0.]\n",
      " [0. 1. 0.]\n",
      " [0. 0. 1.]]\n"
     ]
    }
   ],
   "source": [
    "#Ejercicio 11\n",
    "#Crea una matriz identidad de 3x3.\n",
    "a = np.eye(3)\n",
    "print(a)"
   ]
  },
  {
   "cell_type": "code",
   "execution_count": 74,
   "id": "3c8e67e7-b4b9-4522-bb18-d62863236027",
   "metadata": {},
   "outputs": [
    {
     "name": "stdout",
     "output_type": "stream",
     "text": [
      "0.7596408327701287\n"
     ]
    }
   ],
   "source": [
    "#Ejercicio 12\n",
    "#Genera un número aleatorio entre 0 y 1.\n",
    "num = np.random.rand()\n",
    "print(num)"
   ]
  },
  {
   "cell_type": "code",
   "execution_count": 75,
   "id": "d2a88b7e-01a3-4155-aa89-957a22781117",
   "metadata": {},
   "outputs": [
    {
     "name": "stdout",
     "output_type": "stream",
     "text": [
      "[0.83172622 0.13637755 0.04556846 0.11387374 0.64347486 0.6364181\n",
      " 0.56172009 0.82828715 0.35054415 0.61062429 0.23338794 0.90354088\n",
      " 0.64142415 0.81500117 0.40226942]\n"
     ]
    }
   ],
   "source": [
    "#Ejercico 13\n",
    "#Crea un arreglo de 15 números aleatorios tomados de una distribución normal estándar.\n",
    "a = np.random.rand(15)\n",
    "print(a)"
   ]
  },
  {
   "cell_type": "code",
   "execution_count": 76,
   "id": "cf9ea9e7-a0af-4fb1-91f3-588a0bd84b22",
   "metadata": {},
   "outputs": [
    {
     "name": "stdout",
     "output_type": "stream",
     "text": [
      "[16 17 18 19 20 21 22 23 24 25 26 27 28 29 30 31 32 33 34 35 36 37 38 39\n",
      " 40 41 42 43 44 45 46 47 48 49 50 51 52 53]\n",
      "[16 17 18 19 20 21 22 23 24 25 26 27 28 29 30 31 32 33 34 35 36 37 38 39\n",
      " 40 41 42 43 44 45 46 47 48 49 50 51 52 53]\n"
     ]
    }
   ],
   "source": [
    "#Ejercicio 14\n",
    "#Crea un arreglo con valores entre 15 y 55, e imprime todos los valores excepto el primero y el último.\n",
    "a = np.arange(16, 54)\n",
    "print(a)\n",
    "\n",
    "b = np.arange(15, 55)\n",
    "print(b[1:-1])"
   ]
  },
  {
   "cell_type": "code",
   "execution_count": 77,
   "id": "f063ba7f-9ada-4019-a870-e7e94d1be082",
   "metadata": {},
   "outputs": [
    {
     "name": "stdout",
     "output_type": "stream",
     "text": [
      "[ 5. 10. 15. 20. 25. 30. 35. 40. 45. 50.]\n"
     ]
    }
   ],
   "source": [
    "#Ejercicio 15\n",
    "#Crea un vector (arreglo) de longitud 10 con valores equitativamente distribuidos entre 5 y 50.\n",
    "a = np.linspace(5, 50, 10)\n",
    "print(a)"
   ]
  },
  {
   "cell_type": "code",
   "execution_count": 78,
   "id": "f60c23d3-020d-4f28-bb4d-e366c9033b2e",
   "metadata": {},
   "outputs": [
    {
     "name": "stdout",
     "output_type": "stream",
     "text": [
      "[  0   1   2   3   4   5   6   7   8  -9 -10 -11 -12 -13 -14 -15  16  17\n",
      "  18  19]\n"
     ]
    }
   ],
   "source": [
    "#Ejercicio 16\n",
    "#Crea un vector con valores de 0 a 20, y cambia el signo de los números de 9 a 15.\n",
    "a = np.arange(0, 20)\n",
    "a[(a >= 9) & (a <= 15)]*= -1\n",
    "print(a)"
   ]
  },
  {
   "cell_type": "code",
   "execution_count": 79,
   "id": "cd4ab2f2-f66a-435f-9a81-081cb203c994",
   "metadata": {},
   "outputs": [
    {
     "name": "stdout",
     "output_type": "stream",
     "text": [
      "[1, 2, 3]\n"
     ]
    }
   ],
   "source": [
    "#Ejercicio 17\n",
    "#Convierte el arreglo a = np.array([1, 2, 3]) a una lista de Python.\n",
    "a = np.array([1, 2, 3])\n",
    "l = a.tolist()\n",
    "print(l)"
   ]
  },
  {
   "cell_type": "code",
   "execution_count": 80,
   "id": "459fe93f-859b-4102-b5d8-26130342ce6c",
   "metadata": {},
   "outputs": [
    {
     "name": "stdout",
     "output_type": "stream",
     "text": [
      "[1 2 3]\n"
     ]
    }
   ],
   "source": [
    "#Ejercicio 18\n",
    "#Convierte la lista l = [1, 2, 3] a un arreglo de Numpy.\n",
    "l = a.tolist()\n",
    "a = np.array(l)\n",
    "print(a)"
   ]
  },
  {
   "cell_type": "code",
   "execution_count": 81,
   "id": "0579bb00-ac46-4b55-b56c-5ed32b567a5d",
   "metadata": {},
   "outputs": [
    {
     "name": "stdout",
     "output_type": "stream",
     "text": [
      "[[False  True]\n",
      " [False  True]]\n"
     ]
    }
   ],
   "source": [
    "#Ejercicio 19\n",
    "#Dada la matriz m = np.array([[1, 2], [3, 4]]), verifica qué números son pares y almacena los resultados en otra matriz.\n",
    "m = np.array([[1, 2], [3, 4]])\n",
    "par = (m % 2 == 0)\n",
    "print(par)"
   ]
  },
  {
   "cell_type": "code",
   "execution_count": 85,
   "id": "dc236d10-658a-498f-b5ea-fe4d108e9e7c",
   "metadata": {},
   "outputs": [
    {
     "name": "stdout",
     "output_type": "stream",
     "text": [
      "[[1 2 3]\n",
      " [4 5 6]]\n",
      "Número de filas:  2\n",
      "Número de columnas:  3\n"
     ]
    }
   ],
   "source": [
    "#Ejercicio 20\n",
    "#Dado el arreglo m = np.array([[1, 2, 3], [4, 5, 6]]), encuentra el número de filas y columnas de la matriz.\n",
    "m = np.array([[1, 2, 3], [4, 5, 6]])\n",
    "f, c = m.shape\n",
    "print(m)\n",
    "print(\"Número de filas: \", f)\n",
    "print(\"Número de columnas: \", c)"
   ]
  },
  {
   "cell_type": "code",
   "execution_count": null,
   "id": "7094c5bc-6289-4fea-b316-66585b148ec6",
   "metadata": {},
   "outputs": [],
   "source": []
  }
 ],
 "metadata": {
  "kernelspec": {
   "display_name": "Python 3 (ipykernel)",
   "language": "python",
   "name": "python3"
  },
  "language_info": {
   "codemirror_mode": {
    "name": "ipython",
    "version": 3
   },
   "file_extension": ".py",
   "mimetype": "text/x-python",
   "name": "python",
   "nbconvert_exporter": "python",
   "pygments_lexer": "ipython3",
   "version": "3.10.12"
  }
 },
 "nbformat": 4,
 "nbformat_minor": 5
}
