{
 "cells": [
  {
   "cell_type": "code",
   "execution_count": 13,
   "id": "85b435dd-c65c-4975-974e-35765424072f",
   "metadata": {},
   "outputs": [
    {
     "name": "stdout",
     "output_type": "stream",
     "text": [
      "Arreglo:  [8 8 3 7 7 0 4 2 5 2]\n"
     ]
    }
   ],
   "source": [
    "import numpy as np\n",
    "arr_rand = np.array([8, 8, 3, 7, 7, 0, 4, 2, 5, 2])\n",
    "print(\"Arreglo: \", arr_rand)"
   ]
  },
  {
   "cell_type": "code",
   "execution_count": 14,
   "id": "66e634e7-9d9d-4f07-9b87-f5daf3ef01ac",
   "metadata": {},
   "outputs": [
    {
     "name": "stdout",
     "output_type": "stream",
     "text": [
      "Posiciones en donde el valor > 5: (array([0, 1, 3, 4]),)\n"
     ]
    }
   ],
   "source": [
    "# Obtener índices (posiciones) en los que el valor sea > 5\n",
    "indices_mayores_5 = np.where(arr_rand > 5)\n",
    "print(\"Posiciones en donde el valor > 5:\",indices_mayores_5)"
   ]
  },
  {
   "cell_type": "code",
   "execution_count": 15,
   "id": "2d428066-cf40-46fd-976f-cca9c09fee9e",
   "metadata": {},
   "outputs": [
    {
     "data": {
      "text/plain": [
       "array([[8, 8, 7, 7]])"
      ]
     },
     "execution_count": 15,
     "metadata": {},
     "output_type": "execute_result"
    }
   ],
   "source": [
    "arr_rand.take(indices_mayores_5)"
   ]
  },
  {
   "cell_type": "code",
   "execution_count": 16,
   "id": "449b6398-463a-44a5-9dec-5a5e36073400",
   "metadata": {},
   "outputs": [
    {
     "data": {
      "text/plain": [
       "array([8, 8, 7, 7])"
      ]
     },
     "execution_count": 16,
     "metadata": {},
     "output_type": "execute_result"
    }
   ],
   "source": [
    "arr_rand[indices_mayores_5]"
   ]
  },
  {
   "cell_type": "code",
   "execution_count": 17,
   "id": "78258f1d-a82d-4b13-bad6-af0cdecd9f88",
   "metadata": {},
   "outputs": [
    {
     "name": "stdout",
     "output_type": "stream",
     "text": [
      "Posición del elemento más grande (max): 0\n",
      "Posición del elemento más chico  (min): 5\n"
     ]
    }
   ],
   "source": [
    "print(\"Posición del elemento más grande (max):\", np.argmax(arr_rand))\n",
    "print(\"Posición del elemento más chico  (min):\", np.argmin(arr_rand))"
   ]
  },
  {
   "cell_type": "code",
   "execution_count": 18,
   "id": "ff83910c-108b-40b1-b824-fe34139f94bc",
   "metadata": {},
   "outputs": [],
   "source": [
    "#Archivos CSV\n",
    "#Importar y exportar datos de archivos CSV"
   ]
  },
  {
   "cell_type": "code",
   "execution_count": 19,
   "id": "34681bfe-2bdc-46f4-8ea1-3bdb18e459f7",
   "metadata": {},
   "outputs": [
    {
     "data": {
      "text/plain": [
       "array([[  18. ,    8. ,  307. ,  130. , 3504. ,   12. ,   70. ,    1. ,\n",
       "        -999. ],\n",
       "       [  15. ,    8. ,  350. ,  165. , 3693. ,   11.5,   70. ,    1. ,\n",
       "        -999. ],\n",
       "       [  18. ,    8. ,  318. ,  150. , 3436. ,   11. ,   70. ,    1. ,\n",
       "        -999. ]])"
      ]
     },
     "execution_count": 19,
     "metadata": {},
     "output_type": "execute_result"
    }
   ],
   "source": [
    "#apagar la notación científica\n",
    "np.set_printoptions(suppress=True)\n",
    "ruta_url = 'https://raw.githubusercontent.com/selva86/datasets/master/Auto.csv'\n",
    "data = np.genfromtxt(ruta_url, delimiter=',', skip_header=1, filling_values=-999, dtype='float')\n",
    "data[:3]\n"
   ]
  },
  {
   "cell_type": "code",
   "execution_count": 20,
   "id": "c9be6280-bc28-42a2-a5ba-22870350c616",
   "metadata": {},
   "outputs": [
    {
     "data": {
      "text/plain": [
       "array([(18., 8, 307., 130, 3504, 12. , 70, 1, '\"chevrolet chevelle malibu\"'),\n",
       "       (15., 8, 350., 165, 3693, 11.5, 70, 1, '\"buick skylark 320\"'),\n",
       "       (18., 8, 318., 150, 3436, 11. , 70, 1, '\"plymouth satellite\"')],\n",
       "      dtype=[('f0', '<f8'), ('f1', '<i8'), ('f2', '<f8'), ('f3', '<i8'), ('f4', '<i8'), ('f5', '<f8'), ('f6', '<i8'), ('f7', '<i8'), ('f8', '<U38')])"
      ]
     },
     "execution_count": 20,
     "metadata": {},
     "output_type": "execute_result"
    }
   ],
   "source": [
    "data2 = np.genfromtxt(ruta_url, delimiter=',', skip_header=1, dtype=None, encoding=None)\n",
    "data2[:3]"
   ]
  },
  {
   "cell_type": "code",
   "execution_count": 21,
   "id": "7ec5510a-b761-44e4-afa8-0e5acf24a147",
   "metadata": {},
   "outputs": [
    {
     "name": "stdout",
     "output_type": "stream",
     "text": [
      "[[ 1.800e+01  8.000e+00  3.070e+02  1.300e+02  3.504e+03  1.200e+01\n",
      "   7.000e+01  1.000e+00 -9.990e+02]\n",
      " [ 1.500e+01  8.000e+00  3.500e+02  1.650e+02  3.693e+03  1.150e+01\n",
      "   7.000e+01  1.000e+00 -9.990e+02]\n",
      " [ 1.800e+01  8.000e+00  3.180e+02  1.500e+02  3.436e+03  1.100e+01\n",
      "   7.000e+01  1.000e+00 -9.990e+02]]\n"
     ]
    }
   ],
   "source": [
    "#data3 = np.genfromtxt(\"Auto.csv\", delimiter=',', skip_header=1, dtype=float, filling_values=-999)\n",
    "#data3[:3]           NO FUNFIONA\n",
    "\n",
    "import urllib.request\n",
    "\n",
    "# Descargar el CSV y guardarlo localmente\n",
    "url = 'https://raw.githubusercontent.com/selva86/datasets/master/Auto.csv'\n",
    "urllib.request.urlretrieve(url, 'Auto.csv')  # ← Aquí se crea el archivo Auto.csv\n",
    "\n",
    "# Ahora sí se puede leer como archivo local\n",
    "data3 = np.genfromtxt(\"Auto.csv\", delimiter=',', skip_header=1, filling_values=-999, dtype=float)\n",
    "print(data3[:3])\n"
   ]
  },
  {
   "cell_type": "code",
   "execution_count": 22,
   "id": "99a0c56e-e4e7-48dc-b820-a84cf62b6f2c",
   "metadata": {},
   "outputs": [],
   "source": [
    "np.savetxt(\"out.csv\", data3, delimiter=\",\")"
   ]
  },
  {
   "cell_type": "code",
   "execution_count": 23,
   "id": "6c023808-9914-4e5a-9b80-bf3d88ef3dcc",
   "metadata": {},
   "outputs": [
    {
     "data": {
      "text/plain": [
       "(1200, 1106, 3)"
      ]
     },
     "execution_count": 23,
     "metadata": {},
     "output_type": "execute_result"
    }
   ],
   "source": [
    "import matplotlib.pyplot as plt \n",
    "img = plt.imread('img/beagle.jpg')\n",
    "img.shape"
   ]
  },
  {
   "cell_type": "code",
   "execution_count": 24,
   "id": "9b235678-2970-422a-a90c-25496dbdfcb0",
   "metadata": {},
   "outputs": [
    {
     "data": {
      "text/plain": [
       "3"
      ]
     },
     "execution_count": 24,
     "metadata": {},
     "output_type": "execute_result"
    }
   ],
   "source": [
    "img.ndim"
   ]
  },
  {
   "cell_type": "code",
   "execution_count": 25,
   "id": "2752ebf6-df0f-491d-8ce3-992aa3529483",
   "metadata": {},
   "outputs": [
    {
     "data": {
      "text/plain": [
       "array([255, 255, 157], dtype=uint8)"
      ]
     },
     "execution_count": 25,
     "metadata": {},
     "output_type": "execute_result"
    }
   ],
   "source": [
    "img[0,0]"
   ]
  },
  {
   "cell_type": "code",
   "execution_count": 26,
   "id": "31c0e933-a6f0-47c2-8336-19d312d929af",
   "metadata": {},
   "outputs": [
    {
     "data": {
      "text/plain": [
       "array([255, 255, 157], dtype=uint8)"
      ]
     },
     "execution_count": 26,
     "metadata": {},
     "output_type": "execute_result"
    }
   ],
   "source": [
    "img[0,0]"
   ]
  },
  {
   "cell_type": "code",
   "execution_count": 27,
   "id": "71a1d9ef-44d8-4477-be5f-135bd6e15ded",
   "metadata": {},
   "outputs": [],
   "source": [
    "img2=plt.imread('img/salchicha.jpg')"
   ]
  },
  {
   "cell_type": "code",
   "execution_count": 28,
   "id": "44fbb146-0846-40df-8f4a-28b99a5c03b9",
   "metadata": {},
   "outputs": [
    {
     "data": {
      "text/plain": [
       "(1414, 2121, 3)"
      ]
     },
     "execution_count": 28,
     "metadata": {},
     "output_type": "execute_result"
    }
   ],
   "source": [
    "img2.shape"
   ]
  },
  {
   "cell_type": "code",
   "execution_count": 29,
   "id": "555262b7-8c28-463d-b3a8-80aac9eb17fe",
   "metadata": {},
   "outputs": [
    {
     "data": {
      "text/plain": [
       "array([ 51, 114,   7], dtype=uint8)"
      ]
     },
     "execution_count": 29,
     "metadata": {},
     "output_type": "execute_result"
    }
   ],
   "source": [
    "img2[0,0]"
   ]
  }
 ],
 "metadata": {
  "kernelspec": {
   "display_name": "Python 3 (ipykernel)",
   "language": "python",
   "name": "python3"
  },
  "language_info": {
   "codemirror_mode": {
    "name": "ipython",
    "version": 3
   },
   "file_extension": ".py",
   "mimetype": "text/x-python",
   "name": "python",
   "nbconvert_exporter": "python",
   "pygments_lexer": "ipython3",
   "version": "3.10.12"
  }
 },
 "nbformat": 4,
 "nbformat_minor": 5
}
